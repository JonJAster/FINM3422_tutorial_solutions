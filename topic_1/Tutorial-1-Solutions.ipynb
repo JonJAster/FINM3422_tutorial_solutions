{
 "cells": [
  {
   "cell_type": "markdown",
   "metadata": {},
   "source": [
    "# **FINM3422**\n",
    "---\n",
    "# **Tutorial 1**\n",
    "\n",
    "This Jupyter Notebook is designed for beginners who have never coded before. By the end of this tutorial, you will have a solid understanding of basic Python concepts and how to work with very basic financial data."
   ]
  },
  {
   "cell_type": "code",
   "execution_count": 2,
   "metadata": {},
   "outputs": [],
   "source": [
    "## Importing necessary packages\n",
    "import pandas as pd\n",
    "import numpy as np\n",
    "import matplotlib.pyplot as plt"
   ]
  },
  {
   "cell_type": "markdown",
   "metadata": {},
   "source": [
    "## Task 1.1: Create a dictionary for a variable called ```share_prices``` containing their ASX ticker and closing prices using the following information:\n",
    "\n",
    "In Python, a **dictionary** is a way to store data using **key-value pairs**."
   ]
  },
  {
   "cell_type": "markdown",
   "metadata": {},
   "source": [
    "| ASX Code | Closing Price (AUD) |\n",
    "|----------|---------------------|\n",
    "| BHP      | 50.25               |\n",
    "| CBA      | 105.30              |\n",
    "| NAB      | 30.20               |\n",
    "| WBC      | 29.45               |\n",
    "| TLS      | 4.10                |\n",
    "| WOW      | 34.85               |\n",
    "| CSL      | 295.50              |\n",
    "| RIO      | 122.10              |\n",
    "| FMG      | 22.75               |\n",
    "| ANZ      | 28.60               |\n"
   ]
  },
  {
   "cell_type": "code",
   "execution_count": 2,
   "metadata": {},
   "outputs": [],
   "source": [
    "# Task 1: Create a dictionary for share prices\n",
    "share_prices = {\n",
    "    \"BHP\": 50.25,\n",
    "    \"CBA\": 105.30,\n",
    "    \"NAB\": 30.20,\n",
    "    \"WBC\": 29.45,\n",
    "    \"TLS\": 4.10,\n",
    "    \"WOW\": 34.85,\n",
    "    \"CSL\": 295.50,\n",
    "    \"RIO\": 122.10,\n",
    "    \"FMG\": 22.75,\n",
    "    \"ANZ\": 28.60\n",
    "}"
   ]
  },
  {
   "cell_type": "markdown",
   "metadata": {},
   "source": [
    "Explanation\n",
    "- Each **key** (e.g., \"BHP\") represents an ASX stock code.\n",
    "- Each **value** (e.g., 50.25) represents the closing stock price."
   ]
  },
  {
   "cell_type": "markdown",
   "metadata": {},
   "source": [
    "## Task 1.2: Add the ticker MQG to the ```share_prices``` dictionary:\n",
    "\n",
    "We can add a new stock to the dictionary by simply assigning a new key-value pair.\n",
    "\n",
    "| ASX Code | Closing Price (AUD) |\n",
    "|----------|---------------------|\n",
    "| MQG      | 180.20              |"
   ]
  },
  {
   "cell_type": "code",
   "execution_count": 3,
   "metadata": {},
   "outputs": [],
   "source": [
    "# Task 1.2: Add a new stock\n",
    "share_prices[\"MQG\"] = 180.20"
   ]
  },
  {
   "cell_type": "markdown",
   "metadata": {},
   "source": [
    "## Task 1.3: Modify the price of BHP to $51.00:\n",
    "We can update the price of a stock using its key."
   ]
  },
  {
   "cell_type": "code",
   "execution_count": 4,
   "metadata": {},
   "outputs": [
    {
     "name": "stdout",
     "output_type": "stream",
     "text": [
      "{'BHP': 51.0, 'CBA': 105.3, 'NAB': 30.2, 'WBC': 29.45, 'TLS': 4.1, 'WOW': 34.85, 'CSL': 295.5, 'RIO': 122.1, 'FMG': 22.75, 'ANZ': 28.6, 'MQG': 180.2}\n"
     ]
    }
   ],
   "source": [
    "# Task 1.3: Modify the price of a stock\n",
    "share_prices[\"BHP\"] = 51.00\n",
    "print(share_prices)"
   ]
  },
  {
   "cell_type": "markdown",
   "metadata": {},
   "source": [
    "## Task 1.4: Remove the stock FMG from the dictionary:\n",
    "To remove an entry, we use the `pop()` function."
   ]
  },
  {
   "cell_type": "code",
   "execution_count": 5,
   "metadata": {},
   "outputs": [
    {
     "name": "stdout",
     "output_type": "stream",
     "text": [
      "{'BHP': 51.0, 'CBA': 105.3, 'NAB': 30.2, 'WBC': 29.45, 'TLS': 4.1, 'WOW': 34.85, 'CSL': 295.5, 'RIO': 122.1, 'ANZ': 28.6, 'MQG': 180.2}\n"
     ]
    }
   ],
   "source": [
    "# Task 1.4: Remove a stock\n",
    "share_prices.pop(\"FMG\")\n",
    "print(share_prices)"
   ]
  },
  {
   "cell_type": "markdown",
   "metadata": {},
   "source": [
    "## Task 1.5: Print all shares and their associated prices:\n",
    "We can loop through the dictionary and print each stock’s price."
   ]
  },
  {
   "cell_type": "code",
   "execution_count": 6,
   "metadata": {},
   "outputs": [
    {
     "name": "stdout",
     "output_type": "stream",
     "text": [
      "{'BHP': 51.0, 'CBA': 105.3, 'NAB': 30.2, 'WBC': 29.45, 'TLS': 4.1, 'WOW': 34.85, 'CSL': 295.5, 'RIO': 122.1, 'ANZ': 28.6, 'MQG': 180.2}\n",
      "BHP: $51.0\n",
      "CBA: $105.3\n",
      "NAB: $30.2\n",
      "WBC: $29.45\n",
      "TLS: $4.1\n",
      "WOW: $34.85\n",
      "CSL: $295.5\n",
      "RIO: $122.1\n",
      "ANZ: $28.6\n",
      "MQG: $180.2\n"
     ]
    }
   ],
   "source": [
    "# Task 1.5: Print all prices\n",
    "# If needed quickly and without regard for presentation, you can simply print the dictionary\n",
    "print(share_prices)\n",
    "\n",
    "# For better presentation using f-strings, we can loop through the dictionary's items and print\n",
    "for stock, price in share_prices.items():\n",
    "    print(f\"{stock}: ${price}\")"
   ]
  },
  {
   "cell_type": "markdown",
   "metadata": {},
   "source": [
    "## Task 1.6: Print the shares if their price is greater than or equal to (```>=```) 100:\n",
    "We can use a **for-loop** to loop through the dictionary and print each stock’s price **if** it is greater than 100."
   ]
  },
  {
   "cell_type": "code",
   "execution_count": 7,
   "metadata": {},
   "outputs": [
    {
     "name": "stdout",
     "output_type": "stream",
     "text": [
      "CBA: $105.3\n",
      "CSL: $295.5\n",
      "RIO: $122.1\n",
      "MQG: $180.2\n"
     ]
    }
   ],
   "source": [
    "# Task 1.6: Print all shares with prices >= 100\n",
    "for stock, price in share_prices.items():\n",
    "    if price >= 100:\n",
    "        print(f\"{stock}: ${price}\")"
   ]
  },
  {
   "cell_type": "markdown",
   "metadata": {},
   "source": [
    "## Task 1.7: Finding the highest priced stock:\n",
    "**[Hint: you know how to assign variables and also use for loops]**\n",
    "\n",
    "A beginner-friendly way to find the highest and lowest prices is by using a loop."
   ]
  },
  {
   "cell_type": "code",
   "execution_count": 8,
   "metadata": {},
   "outputs": [
    {
     "name": "stdout",
     "output_type": "stream",
     "text": [
      "The most expensive stock is CSL at $295.50.\n"
     ]
    }
   ],
   "source": [
    "# Task 1.7: Finding the highest and lowest priced stocks\n",
    "max_stock = None\n",
    "max_price = 0\n",
    "\n",
    "for stock, price in share_prices.items():\n",
    "    if price > max_price:\n",
    "        max_price = price\n",
    "        max_stock = stock\n",
    "\n",
    "print(f\"The most expensive stock is {max_stock} at ${max_price:.2f}.\")"
   ]
  },
  {
   "cell_type": "markdown",
   "metadata": {},
   "source": [
    "## Task 2.1: Turn the dictionary into a Pandas DataFrame"
   ]
  },
  {
   "cell_type": "markdown",
   "metadata": {},
   "source": [
    "Now that you are familiar with dictionaries, we can start to learn about Pandas and its well-know datatype called a DataFrame"
   ]
  },
  {
   "cell_type": "code",
   "execution_count": 9,
   "metadata": {},
   "outputs": [
    {
     "name": "stdout",
     "output_type": "stream",
     "text": [
      "  ASX Code  Closing Price\n",
      "0      BHP          51.00\n",
      "1      CBA         105.30\n",
      "2      NAB          30.20\n",
      "3      WBC          29.45\n",
      "4      TLS           4.10\n",
      "5      WOW          34.85\n",
      "6      CSL         295.50\n",
      "7      RIO         122.10\n",
      "8      ANZ          28.60\n",
      "9      MQG         180.20\n"
     ]
    }
   ],
   "source": [
    "# Task 2.1: Converting dictionary to Pandas DataFrame\n",
    "df = pd.DataFrame(list(share_prices.items()), columns=[\"ASX Code\", \"Closing Price\"])\n",
    "print(df)"
   ]
  },
  {
   "cell_type": "markdown",
   "metadata": {},
   "source": [
    "## Task 2.2: Show the first 5 rows of the DataFrame\n",
    "Use the ```.head()``` function as it easier to visualise larger dataframes than using ```print()```"
   ]
  },
  {
   "cell_type": "code",
   "execution_count": 10,
   "metadata": {},
   "outputs": [
    {
     "data": {
      "text/html": [
       "<div>\n",
       "<style scoped>\n",
       "    .dataframe tbody tr th:only-of-type {\n",
       "        vertical-align: middle;\n",
       "    }\n",
       "\n",
       "    .dataframe tbody tr th {\n",
       "        vertical-align: top;\n",
       "    }\n",
       "\n",
       "    .dataframe thead th {\n",
       "        text-align: right;\n",
       "    }\n",
       "</style>\n",
       "<table border=\"1\" class=\"dataframe\">\n",
       "  <thead>\n",
       "    <tr style=\"text-align: right;\">\n",
       "      <th></th>\n",
       "      <th>ASX Code</th>\n",
       "      <th>Closing Price</th>\n",
       "    </tr>\n",
       "  </thead>\n",
       "  <tbody>\n",
       "    <tr>\n",
       "      <th>0</th>\n",
       "      <td>BHP</td>\n",
       "      <td>51.00</td>\n",
       "    </tr>\n",
       "    <tr>\n",
       "      <th>1</th>\n",
       "      <td>CBA</td>\n",
       "      <td>105.30</td>\n",
       "    </tr>\n",
       "    <tr>\n",
       "      <th>2</th>\n",
       "      <td>NAB</td>\n",
       "      <td>30.20</td>\n",
       "    </tr>\n",
       "    <tr>\n",
       "      <th>3</th>\n",
       "      <td>WBC</td>\n",
       "      <td>29.45</td>\n",
       "    </tr>\n",
       "    <tr>\n",
       "      <th>4</th>\n",
       "      <td>TLS</td>\n",
       "      <td>4.10</td>\n",
       "    </tr>\n",
       "  </tbody>\n",
       "</table>\n",
       "</div>"
      ],
      "text/plain": [
       "  ASX Code  Closing Price\n",
       "0      BHP          51.00\n",
       "1      CBA         105.30\n",
       "2      NAB          30.20\n",
       "3      WBC          29.45\n",
       "4      TLS           4.10"
      ]
     },
     "execution_count": 10,
     "metadata": {},
     "output_type": "execute_result"
    }
   ],
   "source": [
    "# Task 2.2: Show 5 rows\n",
    "df.head()"
   ]
  },
  {
   "cell_type": "markdown",
   "metadata": {},
   "source": [
    "## Task 2.3: Add a new stock to the DataFrame"
   ]
  },
  {
   "cell_type": "markdown",
   "metadata": {},
   "source": [
    "Add back the previously removed FMG stock\n",
    "| ASX Code | Closing Price (AUD) |\n",
    "|----------|---------------------|\n",
    "| FMG      | 22.75               |\n"
   ]
  },
  {
   "cell_type": "code",
   "execution_count": 11,
   "metadata": {},
   "outputs": [
    {
     "name": "stdout",
     "output_type": "stream",
     "text": [
      "   ASX Code  Closing Price\n",
      "0       BHP          51.00\n",
      "1       CBA         105.30\n",
      "2       NAB          30.20\n",
      "3       WBC          29.45\n",
      "4       TLS           4.10\n",
      "5       WOW          34.85\n",
      "6       CSL         295.50\n",
      "7       RIO         122.10\n",
      "8       ANZ          28.60\n",
      "9       MQG         180.20\n",
      "10      FMG          22.75\n"
     ]
    }
   ],
   "source": [
    "# Task 2.3: Add a new stock to the DataFrame\n",
    "# First we need to make a dictionary for the data we want to add to the DataFrame\n",
    "temp_data = {\"ASX Code\": \"FMG\", \"Closing Price\": 22.75}\n",
    "\n",
    "# Next, we want to turn the dictionary into a DataFrame. (Wrap the dictionary in a list)\n",
    "temp_df = pd.DataFrame([temp_data])\n",
    "\n",
    "# Finally, we will use the .concat() method to add the data to the end of the existing DataFrame\n",
    "df = pd.concat([df, temp_df], ignore_index=True)\n",
    "print(df)"
   ]
  },
  {
   "cell_type": "markdown",
   "metadata": {},
   "source": [
    "## Task 2.4: Change the price of BHP to 55"
   ]
  },
  {
   "cell_type": "code",
   "execution_count": 12,
   "metadata": {},
   "outputs": [
    {
     "name": "stdout",
     "output_type": "stream",
     "text": [
      "   ASX Code  Closing Price\n",
      "0       BHP          55.00\n",
      "1       CBA         105.30\n",
      "2       NAB          30.20\n",
      "3       WBC          29.45\n",
      "4       TLS           4.10\n",
      "5       WOW          34.85\n",
      "6       CSL         295.50\n",
      "7       RIO         122.10\n",
      "8       ANZ          28.60\n",
      "9       MQG         180.20\n",
      "10      FMG          22.75\n"
     ]
    }
   ],
   "source": [
    "# Task 2.4: Updating the price of BHP\n",
    "# df.loc[] finds the filtered dataframe row (fist argument which filters \"ASX Code\" rows to find those containing \"BHP\") \n",
    "# and then filters by colums (2nd argument which is 'Closing Price')\n",
    "df.loc[df[\"ASX Code\"] == \"BHP\", \"Closing Price\"] = 55\n",
    "print(df)"
   ]
  },
  {
   "cell_type": "markdown",
   "metadata": {},
   "source": [
    "## Task 2.5: Remove FMG from the DataFrame"
   ]
  },
  {
   "cell_type": "code",
   "execution_count": 13,
   "metadata": {},
   "outputs": [
    {
     "name": "stdout",
     "output_type": "stream",
     "text": [
      "  ASX Code  Closing Price\n",
      "0      BHP          55.00\n",
      "1      CBA         105.30\n",
      "2      NAB          30.20\n",
      "3      WBC          29.45\n",
      "4      TLS           4.10\n",
      "5      WOW          34.85\n",
      "6      CSL         295.50\n",
      "7      RIO         122.10\n",
      "8      ANZ          28.60\n",
      "9      MQG         180.20\n"
     ]
    }
   ],
   "source": [
    "# Task 2.5: \n",
    "\n",
    "# Method 1 to remove FMG\n",
    "# Filter the df for columns not containing FMG and reassign the variable to df\n",
    "df = df[df[\"ASX Code\"] != \"FMG\"]\n",
    "print(df)"
   ]
  },
  {
   "cell_type": "code",
   "execution_count": 14,
   "metadata": {},
   "outputs": [
    {
     "name": "stdout",
     "output_type": "stream",
     "text": [
      "  ASX Code  Closing Price\n",
      "0      BHP          55.00\n",
      "1      CBA         105.30\n",
      "2      NAB          30.20\n",
      "3      WBC          29.45\n",
      "4      TLS           4.10\n",
      "5      WOW          34.85\n",
      "6      CSL         295.50\n",
      "7      RIO         122.10\n",
      "8      ANZ          28.60\n",
      "9      MQG         180.20\n"
     ]
    }
   ],
   "source": [
    "# Method 2 to remove FMG \n",
    "# Drop the row based on the index\n",
    "df = df.drop(df[df[\"ASX Code\"] == \"FMG\"].index)\n",
    "print(df)"
   ]
  },
  {
   "cell_type": "markdown",
   "metadata": {},
   "source": [
    "## Task 2.6: Print all stock prices in the DataFrame"
   ]
  },
  {
   "cell_type": "code",
   "execution_count": 15,
   "metadata": {},
   "outputs": [
    {
     "data": {
      "text/html": [
       "<div>\n",
       "<style scoped>\n",
       "    .dataframe tbody tr th:only-of-type {\n",
       "        vertical-align: middle;\n",
       "    }\n",
       "\n",
       "    .dataframe tbody tr th {\n",
       "        vertical-align: top;\n",
       "    }\n",
       "\n",
       "    .dataframe thead th {\n",
       "        text-align: right;\n",
       "    }\n",
       "</style>\n",
       "<table border=\"1\" class=\"dataframe\">\n",
       "  <thead>\n",
       "    <tr style=\"text-align: right;\">\n",
       "      <th></th>\n",
       "      <th>ASX Code</th>\n",
       "      <th>Closing Price</th>\n",
       "    </tr>\n",
       "  </thead>\n",
       "  <tbody>\n",
       "    <tr>\n",
       "      <th>0</th>\n",
       "      <td>BHP</td>\n",
       "      <td>55.00</td>\n",
       "    </tr>\n",
       "    <tr>\n",
       "      <th>1</th>\n",
       "      <td>CBA</td>\n",
       "      <td>105.30</td>\n",
       "    </tr>\n",
       "    <tr>\n",
       "      <th>2</th>\n",
       "      <td>NAB</td>\n",
       "      <td>30.20</td>\n",
       "    </tr>\n",
       "    <tr>\n",
       "      <th>3</th>\n",
       "      <td>WBC</td>\n",
       "      <td>29.45</td>\n",
       "    </tr>\n",
       "    <tr>\n",
       "      <th>4</th>\n",
       "      <td>TLS</td>\n",
       "      <td>4.10</td>\n",
       "    </tr>\n",
       "    <tr>\n",
       "      <th>5</th>\n",
       "      <td>WOW</td>\n",
       "      <td>34.85</td>\n",
       "    </tr>\n",
       "    <tr>\n",
       "      <th>6</th>\n",
       "      <td>CSL</td>\n",
       "      <td>295.50</td>\n",
       "    </tr>\n",
       "    <tr>\n",
       "      <th>7</th>\n",
       "      <td>RIO</td>\n",
       "      <td>122.10</td>\n",
       "    </tr>\n",
       "    <tr>\n",
       "      <th>8</th>\n",
       "      <td>ANZ</td>\n",
       "      <td>28.60</td>\n",
       "    </tr>\n",
       "    <tr>\n",
       "      <th>9</th>\n",
       "      <td>MQG</td>\n",
       "      <td>180.20</td>\n",
       "    </tr>\n",
       "  </tbody>\n",
       "</table>\n",
       "</div>"
      ],
      "text/plain": [
       "  ASX Code  Closing Price\n",
       "0      BHP          55.00\n",
       "1      CBA         105.30\n",
       "2      NAB          30.20\n",
       "3      WBC          29.45\n",
       "4      TLS           4.10\n",
       "5      WOW          34.85\n",
       "6      CSL         295.50\n",
       "7      RIO         122.10\n",
       "8      ANZ          28.60\n",
       "9      MQG         180.20"
      ]
     },
     "execution_count": 15,
     "metadata": {},
     "output_type": "execute_result"
    }
   ],
   "source": [
    "# Task 2.6: Printing all stock prices\n",
    "df"
   ]
  },
  {
   "cell_type": "code",
   "execution_count": 16,
   "metadata": {},
   "outputs": [
    {
     "data": {
      "text/html": [
       "<style type=\"text/css\">\n",
       "</style>\n",
       "<table id=\"T_2023d\">\n",
       "  <thead>\n",
       "    <tr>\n",
       "      <th class=\"blank level0\" >&nbsp;</th>\n",
       "      <th id=\"T_2023d_level0_col0\" class=\"col_heading level0 col0\" >ASX Code</th>\n",
       "      <th id=\"T_2023d_level0_col1\" class=\"col_heading level0 col1\" >Closing Price</th>\n",
       "    </tr>\n",
       "  </thead>\n",
       "  <tbody>\n",
       "    <tr>\n",
       "      <th id=\"T_2023d_level0_row0\" class=\"row_heading level0 row0\" >0</th>\n",
       "      <td id=\"T_2023d_row0_col0\" class=\"data row0 col0\" >BHP</td>\n",
       "      <td id=\"T_2023d_row0_col1\" class=\"data row0 col1\" >55.000000</td>\n",
       "    </tr>\n",
       "    <tr>\n",
       "      <th id=\"T_2023d_level0_row1\" class=\"row_heading level0 row1\" >1</th>\n",
       "      <td id=\"T_2023d_row1_col0\" class=\"data row1 col0\" >CBA</td>\n",
       "      <td id=\"T_2023d_row1_col1\" class=\"data row1 col1\" >105.300000</td>\n",
       "    </tr>\n",
       "    <tr>\n",
       "      <th id=\"T_2023d_level0_row2\" class=\"row_heading level0 row2\" >2</th>\n",
       "      <td id=\"T_2023d_row2_col0\" class=\"data row2 col0\" >NAB</td>\n",
       "      <td id=\"T_2023d_row2_col1\" class=\"data row2 col1\" >30.200000</td>\n",
       "    </tr>\n",
       "    <tr>\n",
       "      <th id=\"T_2023d_level0_row3\" class=\"row_heading level0 row3\" >3</th>\n",
       "      <td id=\"T_2023d_row3_col0\" class=\"data row3 col0\" >WBC</td>\n",
       "      <td id=\"T_2023d_row3_col1\" class=\"data row3 col1\" >29.450000</td>\n",
       "    </tr>\n",
       "    <tr>\n",
       "      <th id=\"T_2023d_level0_row4\" class=\"row_heading level0 row4\" >4</th>\n",
       "      <td id=\"T_2023d_row4_col0\" class=\"data row4 col0\" >TLS</td>\n",
       "      <td id=\"T_2023d_row4_col1\" class=\"data row4 col1\" >4.100000</td>\n",
       "    </tr>\n",
       "    <tr>\n",
       "      <th id=\"T_2023d_level0_row5\" class=\"row_heading level0 row5\" >5</th>\n",
       "      <td id=\"T_2023d_row5_col0\" class=\"data row5 col0\" >WOW</td>\n",
       "      <td id=\"T_2023d_row5_col1\" class=\"data row5 col1\" >34.850000</td>\n",
       "    </tr>\n",
       "    <tr>\n",
       "      <th id=\"T_2023d_level0_row6\" class=\"row_heading level0 row6\" >6</th>\n",
       "      <td id=\"T_2023d_row6_col0\" class=\"data row6 col0\" >CSL</td>\n",
       "      <td id=\"T_2023d_row6_col1\" class=\"data row6 col1\" >295.500000</td>\n",
       "    </tr>\n",
       "    <tr>\n",
       "      <th id=\"T_2023d_level0_row7\" class=\"row_heading level0 row7\" >7</th>\n",
       "      <td id=\"T_2023d_row7_col0\" class=\"data row7 col0\" >RIO</td>\n",
       "      <td id=\"T_2023d_row7_col1\" class=\"data row7 col1\" >122.100000</td>\n",
       "    </tr>\n",
       "    <tr>\n",
       "      <th id=\"T_2023d_level0_row8\" class=\"row_heading level0 row8\" >8</th>\n",
       "      <td id=\"T_2023d_row8_col0\" class=\"data row8 col0\" >ANZ</td>\n",
       "      <td id=\"T_2023d_row8_col1\" class=\"data row8 col1\" >28.600000</td>\n",
       "    </tr>\n",
       "    <tr>\n",
       "      <th id=\"T_2023d_level0_row9\" class=\"row_heading level0 row9\" >9</th>\n",
       "      <td id=\"T_2023d_row9_col0\" class=\"data row9 col0\" >MQG</td>\n",
       "      <td id=\"T_2023d_row9_col1\" class=\"data row9 col1\" >180.200000</td>\n",
       "    </tr>\n",
       "  </tbody>\n",
       "</table>\n"
      ],
      "text/plain": [
       "<pandas.io.formats.style.Styler at 0x13a1a8a50>"
      ]
     },
     "execution_count": 16,
     "metadata": {},
     "output_type": "execute_result"
    }
   ],
   "source": [
    "# if a DataFrame is too long and becomes truncated (the output is cut off by the code editor), we can use the following code:\n",
    "df.style"
   ]
  },
  {
   "cell_type": "code",
   "execution_count": 17,
   "metadata": {},
   "outputs": [
    {
     "data": {
      "text/html": [
       "<style type=\"text/css\">\n",
       "</style>\n",
       "<table id=\"T_c1693\">\n",
       "  <thead>\n",
       "    <tr>\n",
       "      <th class=\"blank level0\" >&nbsp;</th>\n",
       "      <th id=\"T_c1693_level0_col0\" class=\"col_heading level0 col0\" >0</th>\n",
       "      <th id=\"T_c1693_level0_col1\" class=\"col_heading level0 col1\" >1</th>\n",
       "      <th id=\"T_c1693_level0_col2\" class=\"col_heading level0 col2\" >2</th>\n",
       "      <th id=\"T_c1693_level0_col3\" class=\"col_heading level0 col3\" >3</th>\n",
       "      <th id=\"T_c1693_level0_col4\" class=\"col_heading level0 col4\" >4</th>\n",
       "      <th id=\"T_c1693_level0_col5\" class=\"col_heading level0 col5\" >5</th>\n",
       "      <th id=\"T_c1693_level0_col6\" class=\"col_heading level0 col6\" >6</th>\n",
       "      <th id=\"T_c1693_level0_col7\" class=\"col_heading level0 col7\" >7</th>\n",
       "      <th id=\"T_c1693_level0_col8\" class=\"col_heading level0 col8\" >8</th>\n",
       "      <th id=\"T_c1693_level0_col9\" class=\"col_heading level0 col9\" >9</th>\n",
       "    </tr>\n",
       "  </thead>\n",
       "  <tbody>\n",
       "    <tr>\n",
       "      <th id=\"T_c1693_level0_row0\" class=\"row_heading level0 row0\" >ASX Code</th>\n",
       "      <td id=\"T_c1693_row0_col0\" class=\"data row0 col0\" >BHP</td>\n",
       "      <td id=\"T_c1693_row0_col1\" class=\"data row0 col1\" >CBA</td>\n",
       "      <td id=\"T_c1693_row0_col2\" class=\"data row0 col2\" >NAB</td>\n",
       "      <td id=\"T_c1693_row0_col3\" class=\"data row0 col3\" >WBC</td>\n",
       "      <td id=\"T_c1693_row0_col4\" class=\"data row0 col4\" >TLS</td>\n",
       "      <td id=\"T_c1693_row0_col5\" class=\"data row0 col5\" >WOW</td>\n",
       "      <td id=\"T_c1693_row0_col6\" class=\"data row0 col6\" >CSL</td>\n",
       "      <td id=\"T_c1693_row0_col7\" class=\"data row0 col7\" >RIO</td>\n",
       "      <td id=\"T_c1693_row0_col8\" class=\"data row0 col8\" >ANZ</td>\n",
       "      <td id=\"T_c1693_row0_col9\" class=\"data row0 col9\" >MQG</td>\n",
       "    </tr>\n",
       "    <tr>\n",
       "      <th id=\"T_c1693_level0_row1\" class=\"row_heading level0 row1\" >Closing Price</th>\n",
       "      <td id=\"T_c1693_row1_col0\" class=\"data row1 col0\" >55.000000</td>\n",
       "      <td id=\"T_c1693_row1_col1\" class=\"data row1 col1\" >105.300000</td>\n",
       "      <td id=\"T_c1693_row1_col2\" class=\"data row1 col2\" >30.200000</td>\n",
       "      <td id=\"T_c1693_row1_col3\" class=\"data row1 col3\" >29.450000</td>\n",
       "      <td id=\"T_c1693_row1_col4\" class=\"data row1 col4\" >4.100000</td>\n",
       "      <td id=\"T_c1693_row1_col5\" class=\"data row1 col5\" >34.850000</td>\n",
       "      <td id=\"T_c1693_row1_col6\" class=\"data row1 col6\" >295.500000</td>\n",
       "      <td id=\"T_c1693_row1_col7\" class=\"data row1 col7\" >122.100000</td>\n",
       "      <td id=\"T_c1693_row1_col8\" class=\"data row1 col8\" >28.600000</td>\n",
       "      <td id=\"T_c1693_row1_col9\" class=\"data row1 col9\" >180.200000</td>\n",
       "    </tr>\n",
       "  </tbody>\n",
       "</table>\n"
      ],
      "text/plain": [
       "<pandas.io.formats.style.Styler at 0x13aad8e10>"
      ]
     },
     "execution_count": 17,
     "metadata": {},
     "output_type": "execute_result"
    }
   ],
   "source": [
    "# If you are more interested in the columns of a DataFrame and have many of them you can transpose a DataFrame as well:\n",
    "df.T.style"
   ]
  },
  {
   "cell_type": "markdown",
   "metadata": {},
   "source": [
    "## Task 2.7: Finding the Highest and Lowest Priced Stocks in DataFrame"
   ]
  },
  {
   "cell_type": "code",
   "execution_count": 18,
   "metadata": {},
   "outputs": [
    {
     "name": "stdout",
     "output_type": "stream",
     "text": [
      "The most expensive stock is CSL at $295.50.\n",
      "The cheapest stock is TLS at $4.10.\n"
     ]
    }
   ],
   "source": [
    "# Task 2.7: Finding highest and lowest priced stocks using .idxmax() and .idxmin() method\n",
    "max_row = df.loc[df[\"Closing Price\"].idxmax()]\n",
    "min_row = df.loc[df[\"Closing Price\"].idxmin()]\n",
    "\n",
    "print(f\"The most expensive stock is {max_row['ASX Code']} at ${max_row['Closing Price']:.2f}.\")\n",
    "print(f\"The cheapest stock is {min_row['ASX Code']} at ${min_row['Closing Price']:.2f}.\")"
   ]
  },
  {
   "cell_type": "markdown",
   "metadata": {},
   "source": [
    "## Task 2.8: Make a new column that is all of the share prices converted to USD (assume 1 AUD = 0.65 USD)"
   ]
  },
  {
   "cell_type": "code",
   "execution_count": 19,
   "metadata": {},
   "outputs": [
    {
     "data": {
      "text/html": [
       "<div>\n",
       "<style scoped>\n",
       "    .dataframe tbody tr th:only-of-type {\n",
       "        vertical-align: middle;\n",
       "    }\n",
       "\n",
       "    .dataframe tbody tr th {\n",
       "        vertical-align: top;\n",
       "    }\n",
       "\n",
       "    .dataframe thead th {\n",
       "        text-align: right;\n",
       "    }\n",
       "</style>\n",
       "<table border=\"1\" class=\"dataframe\">\n",
       "  <thead>\n",
       "    <tr style=\"text-align: right;\">\n",
       "      <th></th>\n",
       "      <th>ASX Code</th>\n",
       "      <th>Closing Price</th>\n",
       "      <th>Closing Price (USD)</th>\n",
       "    </tr>\n",
       "  </thead>\n",
       "  <tbody>\n",
       "    <tr>\n",
       "      <th>0</th>\n",
       "      <td>BHP</td>\n",
       "      <td>55.00</td>\n",
       "      <td>35.7500</td>\n",
       "    </tr>\n",
       "    <tr>\n",
       "      <th>1</th>\n",
       "      <td>CBA</td>\n",
       "      <td>105.30</td>\n",
       "      <td>68.4450</td>\n",
       "    </tr>\n",
       "    <tr>\n",
       "      <th>2</th>\n",
       "      <td>NAB</td>\n",
       "      <td>30.20</td>\n",
       "      <td>19.6300</td>\n",
       "    </tr>\n",
       "    <tr>\n",
       "      <th>3</th>\n",
       "      <td>WBC</td>\n",
       "      <td>29.45</td>\n",
       "      <td>19.1425</td>\n",
       "    </tr>\n",
       "    <tr>\n",
       "      <th>4</th>\n",
       "      <td>TLS</td>\n",
       "      <td>4.10</td>\n",
       "      <td>2.6650</td>\n",
       "    </tr>\n",
       "    <tr>\n",
       "      <th>5</th>\n",
       "      <td>WOW</td>\n",
       "      <td>34.85</td>\n",
       "      <td>22.6525</td>\n",
       "    </tr>\n",
       "    <tr>\n",
       "      <th>6</th>\n",
       "      <td>CSL</td>\n",
       "      <td>295.50</td>\n",
       "      <td>192.0750</td>\n",
       "    </tr>\n",
       "    <tr>\n",
       "      <th>7</th>\n",
       "      <td>RIO</td>\n",
       "      <td>122.10</td>\n",
       "      <td>79.3650</td>\n",
       "    </tr>\n",
       "    <tr>\n",
       "      <th>8</th>\n",
       "      <td>ANZ</td>\n",
       "      <td>28.60</td>\n",
       "      <td>18.5900</td>\n",
       "    </tr>\n",
       "    <tr>\n",
       "      <th>9</th>\n",
       "      <td>MQG</td>\n",
       "      <td>180.20</td>\n",
       "      <td>117.1300</td>\n",
       "    </tr>\n",
       "  </tbody>\n",
       "</table>\n",
       "</div>"
      ],
      "text/plain": [
       "  ASX Code  Closing Price  Closing Price (USD)\n",
       "0      BHP          55.00              35.7500\n",
       "1      CBA         105.30              68.4450\n",
       "2      NAB          30.20              19.6300\n",
       "3      WBC          29.45              19.1425\n",
       "4      TLS           4.10               2.6650\n",
       "5      WOW          34.85              22.6525\n",
       "6      CSL         295.50             192.0750\n",
       "7      RIO         122.10              79.3650\n",
       "8      ANZ          28.60              18.5900\n",
       "9      MQG         180.20             117.1300"
      ]
     },
     "execution_count": 19,
     "metadata": {},
     "output_type": "execute_result"
    }
   ],
   "source": [
    "# Task 2.8: Convert the AUD share price to an equivalent USD price.\n",
    "\n",
    "# It is common practice to capitalise the names of constant variables\n",
    "AUD_USD_CONVERSION_RATE = 0.65\n",
    "df[\"Closing Price (USD)\"] = df[\"Closing Price\"] * AUD_USD_CONVERSION_RATE\n",
    "df"
   ]
  },
  {
   "cell_type": "markdown",
   "metadata": {},
   "source": [
    "## Task 2.9: To avoid confusion, rename the \"Closing Price\" column with \"Closing Price (AUD)\""
   ]
  },
  {
   "cell_type": "code",
   "execution_count": 20,
   "metadata": {},
   "outputs": [
    {
     "data": {
      "text/html": [
       "<div>\n",
       "<style scoped>\n",
       "    .dataframe tbody tr th:only-of-type {\n",
       "        vertical-align: middle;\n",
       "    }\n",
       "\n",
       "    .dataframe tbody tr th {\n",
       "        vertical-align: top;\n",
       "    }\n",
       "\n",
       "    .dataframe thead th {\n",
       "        text-align: right;\n",
       "    }\n",
       "</style>\n",
       "<table border=\"1\" class=\"dataframe\">\n",
       "  <thead>\n",
       "    <tr style=\"text-align: right;\">\n",
       "      <th></th>\n",
       "      <th>ASX Code</th>\n",
       "      <th>Closing Price (USD)</th>\n",
       "      <th>Closing Price (AUD)</th>\n",
       "    </tr>\n",
       "  </thead>\n",
       "  <tbody>\n",
       "    <tr>\n",
       "      <th>0</th>\n",
       "      <td>BHP</td>\n",
       "      <td>35.7500</td>\n",
       "      <td>55.00</td>\n",
       "    </tr>\n",
       "    <tr>\n",
       "      <th>1</th>\n",
       "      <td>CBA</td>\n",
       "      <td>68.4450</td>\n",
       "      <td>105.30</td>\n",
       "    </tr>\n",
       "    <tr>\n",
       "      <th>2</th>\n",
       "      <td>NAB</td>\n",
       "      <td>19.6300</td>\n",
       "      <td>30.20</td>\n",
       "    </tr>\n",
       "    <tr>\n",
       "      <th>3</th>\n",
       "      <td>WBC</td>\n",
       "      <td>19.1425</td>\n",
       "      <td>29.45</td>\n",
       "    </tr>\n",
       "    <tr>\n",
       "      <th>4</th>\n",
       "      <td>TLS</td>\n",
       "      <td>2.6650</td>\n",
       "      <td>4.10</td>\n",
       "    </tr>\n",
       "    <tr>\n",
       "      <th>5</th>\n",
       "      <td>WOW</td>\n",
       "      <td>22.6525</td>\n",
       "      <td>34.85</td>\n",
       "    </tr>\n",
       "    <tr>\n",
       "      <th>6</th>\n",
       "      <td>CSL</td>\n",
       "      <td>192.0750</td>\n",
       "      <td>295.50</td>\n",
       "    </tr>\n",
       "    <tr>\n",
       "      <th>7</th>\n",
       "      <td>RIO</td>\n",
       "      <td>79.3650</td>\n",
       "      <td>122.10</td>\n",
       "    </tr>\n",
       "    <tr>\n",
       "      <th>8</th>\n",
       "      <td>ANZ</td>\n",
       "      <td>18.5900</td>\n",
       "      <td>28.60</td>\n",
       "    </tr>\n",
       "    <tr>\n",
       "      <th>9</th>\n",
       "      <td>MQG</td>\n",
       "      <td>117.1300</td>\n",
       "      <td>180.20</td>\n",
       "    </tr>\n",
       "  </tbody>\n",
       "</table>\n",
       "</div>"
      ],
      "text/plain": [
       "  ASX Code  Closing Price (USD)  Closing Price (AUD)\n",
       "0      BHP              35.7500                55.00\n",
       "1      CBA              68.4450               105.30\n",
       "2      NAB              19.6300                30.20\n",
       "3      WBC              19.1425                29.45\n",
       "4      TLS               2.6650                 4.10\n",
       "5      WOW              22.6525                34.85\n",
       "6      CSL             192.0750               295.50\n",
       "7      RIO              79.3650               122.10\n",
       "8      ANZ              18.5900                28.60\n",
       "9      MQG             117.1300               180.20"
      ]
     },
     "execution_count": 20,
     "metadata": {},
     "output_type": "execute_result"
    }
   ],
   "source": [
    "# Task 2.9: rename \"Closing Price\" with \"Closing Price (AUD)\"\n",
    "# Method 1:\n",
    "df[\"Closing Price (AUD)\"] = df[\"Closing Price\"]\n",
    "df = df.drop(columns=[\"Closing Price\"])\n",
    "\n",
    "# Method 2: [commented out because this will throw an error because we just renamed the cell]\n",
    "# df = df.rename(columns={\"Closing Price\": \"Closing Price (AUD)\"})\n",
    "\n",
    "df"
   ]
  },
  {
   "cell_type": "markdown",
   "metadata": {},
   "source": [
    "## Task 3.0: Create a new python file called **annuity_formula.py** which has a function that returns the present value of an annuity with arguments:\n",
    "- ```interest_rate```\n",
    "- ```number_of_periods```\n",
    "- ```payment_amount```\n",
    "\n",
    "## Then, import this created file below and call the function for different values of the arguments"
   ]
  },
  {
   "cell_type": "code",
   "execution_count": 3,
   "metadata": {},
   "outputs": [
    {
     "data": {
      "text/plain": [
       "772173.4929184818"
      ]
     },
     "execution_count": 3,
     "metadata": {},
     "output_type": "execute_result"
    }
   ],
   "source": [
    "# Task 3.0: Import annuity_formula.py function and use the function\n",
    "# Find the annuity_formula.py file and make sure it is in the same folder as this file \n",
    "from annuity_formula import annuity_formula_function\n",
    "\n",
    "annuity_formula_function(0.05, 10, 100000)"
   ]
  },
  {
   "cell_type": "markdown",
   "metadata": {},
   "source": [
    "## Task 4.0: Make a .csv file using the following information:\n",
    "| ASX Code | Closing Price (AUD) |\n",
    "|----------|---------------------|\n",
    "| BHP      | 50.25               |\n",
    "| CBA      | 105.30              |\n",
    "| NAB      | 30.20               |\n",
    "| WBC      | 29.45               |\n",
    "| TLS      | 4.10                |\n",
    "| WOW      | 34.85               |\n",
    "| CSL      | 295.50              |\n",
    "| RIO      | 122.10              |\n",
    "| FMG      | 22.75               |\n",
    "| ANZ      | 28.60               |\n",
    "\n",
    "## Then, create a code block that imports the .csv file and then save the data as a DataFrame"
   ]
  },
  {
   "cell_type": "code",
   "execution_count": 4,
   "metadata": {},
   "outputs": [
    {
     "data": {
      "text/html": [
       "<div>\n",
       "<style scoped>\n",
       "    .dataframe tbody tr th:only-of-type {\n",
       "        vertical-align: middle;\n",
       "    }\n",
       "\n",
       "    .dataframe tbody tr th {\n",
       "        vertical-align: top;\n",
       "    }\n",
       "\n",
       "    .dataframe thead th {\n",
       "        text-align: right;\n",
       "    }\n",
       "</style>\n",
       "<table border=\"1\" class=\"dataframe\">\n",
       "  <thead>\n",
       "    <tr style=\"text-align: right;\">\n",
       "      <th></th>\n",
       "      <th>ASX Code</th>\n",
       "      <th>Closing Price (AUD)</th>\n",
       "    </tr>\n",
       "  </thead>\n",
       "  <tbody>\n",
       "    <tr>\n",
       "      <th>0</th>\n",
       "      <td>BHP</td>\n",
       "      <td>50.25</td>\n",
       "    </tr>\n",
       "    <tr>\n",
       "      <th>1</th>\n",
       "      <td>CBA</td>\n",
       "      <td>105.30</td>\n",
       "    </tr>\n",
       "    <tr>\n",
       "      <th>2</th>\n",
       "      <td>NAB</td>\n",
       "      <td>30.20</td>\n",
       "    </tr>\n",
       "    <tr>\n",
       "      <th>3</th>\n",
       "      <td>WBC</td>\n",
       "      <td>29.45</td>\n",
       "    </tr>\n",
       "    <tr>\n",
       "      <th>4</th>\n",
       "      <td>TLS</td>\n",
       "      <td>4.10</td>\n",
       "    </tr>\n",
       "    <tr>\n",
       "      <th>5</th>\n",
       "      <td>WOW</td>\n",
       "      <td>34.85</td>\n",
       "    </tr>\n",
       "    <tr>\n",
       "      <th>6</th>\n",
       "      <td>CSL</td>\n",
       "      <td>295.50</td>\n",
       "    </tr>\n",
       "    <tr>\n",
       "      <th>7</th>\n",
       "      <td>RIO</td>\n",
       "      <td>122.10</td>\n",
       "    </tr>\n",
       "    <tr>\n",
       "      <th>8</th>\n",
       "      <td>FMG</td>\n",
       "      <td>22.75</td>\n",
       "    </tr>\n",
       "    <tr>\n",
       "      <th>9</th>\n",
       "      <td>ANZ</td>\n",
       "      <td>28.60</td>\n",
       "    </tr>\n",
       "  </tbody>\n",
       "</table>\n",
       "</div>"
      ],
      "text/plain": [
       "  ASX Code  Closing Price (AUD)\n",
       "0      BHP                50.25\n",
       "1      CBA               105.30\n",
       "2      NAB                30.20\n",
       "3      WBC                29.45\n",
       "4      TLS                 4.10\n",
       "5      WOW                34.85\n",
       "6      CSL               295.50\n",
       "7      RIO               122.10\n",
       "8      FMG                22.75\n",
       "9      ANZ                28.60"
      ]
     },
     "execution_count": 4,
     "metadata": {},
     "output_type": "execute_result"
    }
   ],
   "source": [
    "# Task 4.0: Make a .csv and import the information\n",
    "df_t4 = pd.read_csv(\"asx_prices.csv\")\n",
    "df_t4"
   ]
  },
  {
   "cell_type": "markdown",
   "metadata": {},
   "source": [
    "## Task 5.0: [Extension] Let's put it all together!\n",
    "\n",
    "### Using what you have learnt, do the following\n",
    "1. Import yfinance package as yf (use google to help)\n",
    "2. Get the year-to-date (date starting 1/01/2025) AAPL share price data from yfinance\n",
    "3. Filter this dataframe down to the two columns we want: Date and Close\n",
    "4. Plot the price movement using the matplotlib library"
   ]
  },
  {
   "cell_type": "code",
   "execution_count": 24,
   "metadata": {},
   "outputs": [
    {
     "name": "stderr",
     "output_type": "stream",
     "text": [
      "[*********************100%***********************]  1 of 1 completed"
     ]
    },
    {
     "name": "stdout",
     "output_type": "stream",
     "text": [
      "Price            Close        High         Low        Open    Volume\n",
      "Ticker            AAPL        AAPL        AAPL        AAPL      AAPL\n",
      "Date                                                                \n",
      "2025-01-02  243.582199  248.826433  241.554430  248.656607  55740700\n",
      "2025-01-03  243.092728  243.911819  241.624341  243.092728  40244100\n",
      "2025-01-06  244.730927  247.058369  242.932900  244.041682  45045600\n",
      "2025-01-07  241.944000  245.280328  241.084944  242.713144  40856000\n",
      "2025-01-08  242.433441  243.442342  239.786358  241.654299  37628900\n"
     ]
    },
    {
     "name": "stderr",
     "output_type": "stream",
     "text": [
      "\n"
     ]
    },
    {
     "data": {
      "text/plain": [
       "[<matplotlib.lines.Line2D at 0x13b4adcd0>]"
      ]
     },
     "execution_count": 24,
     "metadata": {},
     "output_type": "execute_result"
    },
    {
     "data": {
      "image/png": "[encoded data removed]",
      "text/plain": [
       "<Figure size 800x500 with 1 Axes>"
      ]
     },
     "metadata": {},
     "output_type": "display_data"
    }
   ],
   "source": [
    "import yfinance as yf\n",
    "\n",
    "# Fetch last 4 weeks of BHP share price data\n",
    "bhp_data = yf.download(\"AAPL\", start=\"2025-01-01\", end=\"2025-02-21\")\n",
    "print(bhp_data.head())\n",
    "\n",
    "# if students are having problems downloading:\n",
    "# 1. Make sure they have yfinance downloaded: pip install yfinance\n",
    "# 2. Upgrade yfinance if they already have it: pip install --upgrade yfinance\n",
    "\n",
    "# Keep only Date and Closing Price\n",
    "bhp_data = bhp_data[[\"Close\"]].reset_index()\n",
    "bhp_data = bhp_data.rename(columns={\"Close\": \"Closing Price (AUD)\", \"Date\": \"Date\"})\n",
    "\n",
    "# Plot (with as much detail as you want - here we have very basic plotting)\n",
    "plt.figure(figsize=(8, 5))\n",
    "plt.plot(bhp_data[\"Date\"], bhp_data[\"Closing Price (AUD)\"], linestyle='-')"
   ]
  }
 ],
 "metadata": {
  "kernelspec": {
   "display_name": "Python 3",
   "language": "python",
   "name": "python3"
  },
  "language_info": {
   "codemirror_mode": {
    "name": "ipython",
    "version": 3
   },
   "file_extension": ".py",
   "mimetype": "text/x-python",
   "name": "python",
   "nbconvert_exporter": "python",
   "pygments_lexer": "ipython3",
   "version": "3.11.4"
  }
 },
 "nbformat": 4,
 "nbformat_minor": 2
}
